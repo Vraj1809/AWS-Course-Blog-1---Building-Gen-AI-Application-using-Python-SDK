{
 "cells": [
  {
   "cell_type": "markdown",
   "metadata": {},
   "source": [
    "**Importing required libraries**"
   ]
  },
  {
   "cell_type": "code",
   "execution_count": 1,
   "metadata": {},
   "outputs": [],
   "source": [
    "import boto3\n",
    "import json"
   ]
  },
  {
   "cell_type": "markdown",
   "metadata": {},
   "source": [
    "**Set up the Boto3 client to use the Amazon Bedrock runtime and specify the AWS Region:**"
   ]
  },
  {
   "cell_type": "code",
   "execution_count": 2,
   "metadata": {},
   "outputs": [],
   "source": [
    "bedrock_client = boto3.client(\n",
    "    \tservice_name=\"bedrock-runtime\",\n",
    "    region_name=\"us-east-1\"\n",
    ")"
   ]
  },
  {
   "cell_type": "markdown",
   "metadata": {},
   "source": [
    "### **Using Amazon Titan Express Model**"
   ]
  },
  {
   "cell_type": "markdown",
   "metadata": {},
   "source": [
    "**Define the model to invoke using its model ID**"
   ]
  },
  {
   "cell_type": "code",
   "execution_count": 3,
   "metadata": {},
   "outputs": [],
   "source": [
    "model_id = \"amazon.titan-text-express-v1\""
   ]
  },
  {
   "cell_type": "markdown",
   "metadata": {},
   "source": [
    "**Preparing Input Prompt**"
   ]
  },
  {
   "cell_type": "code",
   "execution_count": 8,
   "metadata": {},
   "outputs": [],
   "source": [
    "prompt = \"What is AWS?\""
   ]
  },
  {
   "cell_type": "markdown",
   "metadata": {},
   "source": [
    "**Defining the payload before invoking the bedrock model**"
   ]
  },
  {
   "cell_type": "code",
   "execution_count": null,
   "metadata": {},
   "outputs": [],
   "source": [
    "# Prepare the request payload (without topK)\n",
    "payload = {\n",
    "        \"inputText\": prompt,\n",
    "        \"textGenerationConfig\": {\n",
    "            \"maxTokenCount\": 200,\n",
    "            \"temperature\": 0.7,\n",
    "            \"topP\": 1  \n",
    "        }\n",
    "}"
   ]
  },
  {
   "cell_type": "code",
   "execution_count": 15,
   "metadata": {},
   "outputs": [],
   "source": [
    "response = bedrock_client.invoke_model(\n",
    "    modelId=model_id,\n",
    "    body=json.dumps(payload)\n",
    ")"
   ]
  },
  {
   "cell_type": "code",
   "execution_count": 16,
   "metadata": {},
   "outputs": [
    {
     "name": "stdout",
     "output_type": "stream",
     "text": [
      "Response: \n",
      "AWS is a cloud computing platform offered over the internet by Amazon Web Services. Its services include compute, storage, databases, analytics, networking, mobile, developer tools, management tools, IoT, security, and enterprise applications. With an emphasis on automation, AWS aims to provide a scalable and cost-effective way for businesses to access various computing resources. \n"
     ]
    }
   ],
   "source": [
    "result = json.loads(response[\"body\"].read())\n",
    "generated_text = result[\"results\"][0][\"outputText\"]\n",
    "    \n",
    "print(f\"Response: {generated_text}\")"
   ]
  },
  {
   "cell_type": "markdown",
   "metadata": {},
   "source": [
    "### **Using Llama 3 8B Instruct Model**"
   ]
  },
  {
   "cell_type": "code",
   "execution_count": null,
   "metadata": {},
   "outputs": [
    {
     "name": "stdout",
     "output_type": "stream",
     "text": [
      "Response:  AWS stands for Amazon Web Services, which is a comprehensive cloud computing platform provided by Amazon. It offers a wide range of services, including computing power, storage, databases, analytics, machine learning, and more, to help individuals, companies, and governments build, deploy, and manage applications and workloads in the cloud. AWS is widely used by businesses, developers, and governments to build and deploy scalable, secure, and high-performance applications and workloads.\n",
      "\n",
      "AWS provides a wide range of services, including:\n",
      "\n",
      "1. Compute Services: AWS offers various compute services, including EC2 (Elastic Compute Cloud), Lambda (serverless compute), and Elastic Container Service (ECS), to help you run and manage your applications and workloads.\n",
      "2. Storage Services: AWS provides various storage services, including S3 (Simple Storage Service), Elastic Block Store (EBS), and Elastic File System (EFS), to help you store and manage your data.\n",
      "3. Database Services: AWS offers various database services\n"
     ]
    }
   ],
   "source": [
    "model_id = \"meta.llama3-8b-instruct-v1:0\"\n",
    "\n",
    "prompt = \"What is AWS?\"\n",
    "\n",
    "# Prepare the request payload (without topK)\n",
    "payload = {\n",
    "    \"prompt\": prompt,\n",
    "    \"temperature\": 0.7,\n",
    "    \"top_p\": 1,\n",
    "    \"max_gen_len\": 200\n",
    "}\n",
    "\n",
    "## invoking model \n",
    "response = bedrock_client.invoke_model(\n",
    "    modelId=model_id,\n",
    "    body=json.dumps(payload)\n",
    ")\n",
    "\n",
    "# loading the response\n",
    "result = json.loads(response[\"body\"].read())\n",
    "\n",
    "\n",
    "generated_text = result[\"generation\"]\n",
    "    \n",
    "print(f\"Response: {generated_text}\")"
   ]
  }
 ],
 "metadata": {
  "kernelspec": {
   "display_name": "base",
   "language": "python",
   "name": "python3"
  },
  "language_info": {
   "codemirror_mode": {
    "name": "ipython",
    "version": 3
   },
   "file_extension": ".py",
   "mimetype": "text/x-python",
   "name": "python",
   "nbconvert_exporter": "python",
   "pygments_lexer": "ipython3",
   "version": "3.12.7"
  }
 },
 "nbformat": 4,
 "nbformat_minor": 2
}
